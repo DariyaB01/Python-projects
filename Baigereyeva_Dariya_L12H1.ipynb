{
 "cells": [
  {
   "cell_type": "code",
   "execution_count": null,
   "id": "b3c24aa5",
   "metadata": {},
   "outputs": [],
   "source": [
    "import pandas as pd\n",
    "import matplotlib.pyplot as plt\n",
    "import seaborn as sns\n",
    "from scipy.stats import zscore\n",
    "\n",
    "\n",
    "file_path = '/Users/dariyabaigereyeva/Desktop/product masters/venv/bank_transactions_data_2.csv'\n",
    "\n",
    "try:\n",
    "    data = pd.read_csv(file_path)\n",
    "    print(\"✅ Данные успешно загружены!\")\n",
    "except FileNotFoundError:\n",
    "    print(\"❌ Файл не найден! Проверь путь к файлу.\")\n",
    "    exit()\n",
    "\n",
    "\n",
    "data['Amount_Zscore'] = zscore(data['TransactionAmount'])\n",
    "\n",
    "anomalous_transactions = data[abs(data['Amount_Zscore']) > 3]\n",
    "\n",
    "anomalous_transactions[['TransactionID', 'TransactionAmount']].to_excel(\n",
    "    '/Users/dariyabaigereyeva/Desktop/product masters/venv/anomalous_transactions.xlsx',\n",
    "    index=False\n",
    ")\n",
    "print(\"✅ Файл anomalous_transactions.xlsx успешно создан!\")\n",
    "\n",
    "\n",
    "user_sum = data.groupby('AccountID')['TransactionAmount'].sum().reset_index()\n",
    "user_sum['Z_Score'] = zscore(user_sum['TransactionAmount'])\n",
    "user_sum_zscore = user_sum[user_sum['Z_Score'].abs() > 3]\n",
    "\n",
    "\n",
    "user_count = data.groupby('AccountID')['TransactionID'].count().reset_index()\n",
    "user_count['Z_Score'] = zscore(user_count['TransactionID'])\n",
    "user_count_zscore = user_count[user_count['Z_Score'].abs() > 3]\n",
    "\n",
    "\n",
    "output_path = '/Users/dariyabaigereyeva/Desktop/product masters/venv/anomalous_users.xlsx'\n",
    "with pd.ExcelWriter(output_path) as writer:\n",
    "    user_sum_zscore[['AccountID', 'TransactionAmount']].to_excel(writer, sheet_name='High Volume Transactions', index=False)\n",
    "    user_count_zscore[['AccountID', 'TransactionID']].to_excel(writer, sheet_name='High Frequency Transactions', index=False)\n",
    "\n",
    "print(\"✅ Файл anomalous_users.xlsx успешно создан!\")"
   ]
  }
 ],
 "metadata": {
  "language_info": {
   "name": "python"
  }
 },
 "nbformat": 4,
 "nbformat_minor": 5
}
