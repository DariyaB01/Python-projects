{
 "cells": [
  {
   "cell_type": "code",
   "execution_count": null,
   "id": "14b80c4a",
   "metadata": {},
   "outputs": [],
   "source": [
    "import pandas as pd\n",
    "\n",
    "\n",
    "file_path = \"/Users/dariyabaigereyeva/Desktop/product masters/venv/sales_data.csv\"\n",
    "\n",
    "\n",
    "df = pd.read_csv(file_path)\n",
    "\n",
    "\n",
    "numeric_cols = ['Unit price', 'Quantity', 'Tax 5%', 'Total', 'cogs', 'gross income', 'Rating']\n",
    "\n",
    "\n",
    "outliers_df = pd.DataFrame()\n",
    "for col in numeric_cols:\n",
    "    Q1 = df[col].quantile(0.25)\n",
    "    Q3 = df[col].quantile(0.75)\n",
    "    IQR = Q3 - Q1\n",
    "    lower = Q1 - 1.5 * IQR\n",
    "    upper = Q3 + 1.5 * IQR\n",
    "    outliers = df[(df[col] < lower) | (df[col] > upper)]\n",
    "    outliers_df = pd.concat([outliers_df, outliers])\n",
    "\n",
    "\n",
    "outliers_df = outliers_df.drop_duplicates()\n",
    "\n",
    "\n",
    "output_path = \"/Users/dariyabaigereyeva/Desktop/product masters/venv/sales_outliers_analysis.xlsx\"\n",
    "outliers_df.to_excel(output_path, index=False)\n",
    "\n",
    "print(f\"✅ Файл с выбросами сохранён: {output_path}\")"
   ]
  }
 ],
 "metadata": {
  "language_info": {
   "name": "python"
  }
 },
 "nbformat": 4,
 "nbformat_minor": 5
}
