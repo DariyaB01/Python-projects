{
 "cells": [
  {
   "cell_type": "code",
   "execution_count": null,
   "id": "bb9bb550",
   "metadata": {},
   "outputs": [],
   "source": [
    "\n",
    "import pandas as pd\n",
    "import matplotlib.pyplot as plt\n",
    "import seaborn as sns\n",
    "\n",
    "\n",
    "file_path = '/Users/dariyabaigereyeva/Desktop/Product Masters/venv/bank_transactions_data_2.csv'\n",
    "data = pd.read_csv(file_path)\n",
    "\n",
    "\n",
    "plt.figure(figsize=(10, 5))\n",
    "sns.histplot(data['TransactionAmount'], bins=30, kde=True)\n",
    "plt.title('Distribution of Transaction Amounts')\n",
    "plt.xlabel('Transaction Amount')\n",
    "plt.ylabel('Frequency')\n",
    "plt.grid(True)\n",
    "plt.savefig('transaction_amount_distribution.png')\n",
    "plt.show()\n",
    "\n",
    "# 2. Распределение количества транзакций по каналам (Channel)\n",
    "plt.figure(figsize=(8, 5))\n",
    "sns.countplot(x='Channel', data=data, palette='Set2')\n",
    "plt.title('Number of Transactions by Channel')\n",
    "plt.xlabel('Channel')\n",
    "plt.ylabel('Number of Transactions')\n",
    "plt.grid(True)\n",
    "plt.savefig('transactions_by_channel.png')\n",
    "plt.show()\n",
    "\n",
    "\n",
    "plt.figure(figsize=(8, 5))\n",
    "data.groupby('Channel')['TransactionAmount'].sum().plot(kind='bar', color='skyblue')\n",
    "plt.title('Total Transaction Amount by Channel')\n",
    "plt.xlabel('Channel')\n",
    "plt.ylabel('Total Amount')\n",
    "plt.grid(True)\n",
    "plt.savefig('total_amount_by_channel.png')\n",
    "plt.show()\n",
    "\n",
    "\n",
    "plt.figure(figsize=(10, 5))\n",
    "sns.histplot(data['CustomerAge'], bins=20, kde=True, color='orange')\n",
    "plt.title('Age Distribution of Users')\n",
    "plt.xlabel('Customer Age')\n",
    "plt.ylabel('Frequency')\n",
    "plt.grid(True)\n",
    "plt.savefig('customer_age_distribution.png')\n",
    "plt.show()\n"
   ]
  }
 ],
 "metadata": {
  "language_info": {
   "name": "python"
  }
 },
 "nbformat": 4,
 "nbformat_minor": 5
}
